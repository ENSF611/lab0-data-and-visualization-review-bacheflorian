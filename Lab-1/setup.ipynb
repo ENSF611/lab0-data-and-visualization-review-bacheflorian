{
 "cells": [
  {
   "cell_type": "code",
   "execution_count": 2,
   "metadata": {},
   "outputs": [
    {
     "name": "stdout",
     "output_type": "stream",
     "text": [
      "Python␣version: 3.10.4 (tags/v3.10.4:9d38120, Mar 23 2022, 23:13:41) [MSC v.1929 64 bit (AMD64)]\n"
     ]
    },
    {
     "ename": "ModuleNotFoundError",
     "evalue": "No module named 'pandas'",
     "output_type": "error",
     "traceback": [
      "\u001b[1;31m---------------------------------------------------------------------------\u001b[0m",
      "\u001b[1;31mModuleNotFoundError\u001b[0m                       Traceback (most recent call last)",
      "\u001b[1;32mc:\\Users\\flori\\Documents\\University\\ENSF 611 - Machine Learning\\Labs\\Lab0_Lab-1\\ml-lab0-master\\lab0-data-and-visualization-review-bacheflorian\\Lab-1\\setup.ipynb Cell 1\u001b[0m in \u001b[0;36m<cell line: 4>\u001b[1;34m()\u001b[0m\n\u001b[0;32m      <a href='vscode-notebook-cell:/c%3A/Users/flori/Documents/University/ENSF%20611%20-%20Machine%20Learning/Labs/Lab0_Lab-1/ml-lab0-master/lab0-data-and-visualization-review-bacheflorian/Lab-1/setup.ipynb#W0sZmlsZQ%3D%3D?line=0'>1</a>\u001b[0m \u001b[39mimport\u001b[39;00m \u001b[39msys\u001b[39;00m\n\u001b[0;32m      <a href='vscode-notebook-cell:/c%3A/Users/flori/Documents/University/ENSF%20611%20-%20Machine%20Learning/Labs/Lab0_Lab-1/ml-lab0-master/lab0-data-and-visualization-review-bacheflorian/Lab-1/setup.ipynb#W0sZmlsZQ%3D%3D?line=1'>2</a>\u001b[0m \u001b[39mprint\u001b[39m(\u001b[39m\"\u001b[39m\u001b[39mPython␣version:\u001b[39m\u001b[39m\"\u001b[39m, sys\u001b[39m.\u001b[39mversion)\n\u001b[1;32m----> <a href='vscode-notebook-cell:/c%3A/Users/flori/Documents/University/ENSF%20611%20-%20Machine%20Learning/Labs/Lab0_Lab-1/ml-lab0-master/lab0-data-and-visualization-review-bacheflorian/Lab-1/setup.ipynb#W0sZmlsZQ%3D%3D?line=3'>4</a>\u001b[0m \u001b[39mimport\u001b[39;00m \u001b[39mpandas\u001b[39;00m \u001b[39mas\u001b[39;00m \u001b[39mpd\u001b[39;00m\n\u001b[0;32m      <a href='vscode-notebook-cell:/c%3A/Users/flori/Documents/University/ENSF%20611%20-%20Machine%20Learning/Labs/Lab0_Lab-1/ml-lab0-master/lab0-data-and-visualization-review-bacheflorian/Lab-1/setup.ipynb#W0sZmlsZQ%3D%3D?line=4'>5</a>\u001b[0m \u001b[39mprint\u001b[39m(\u001b[39m\"\u001b[39m\u001b[39mpandas␣version:\u001b[39m\u001b[39m\"\u001b[39m, pd\u001b[39m.\u001b[39m__version__)\n\u001b[0;32m      <a href='vscode-notebook-cell:/c%3A/Users/flori/Documents/University/ENSF%20611%20-%20Machine%20Learning/Labs/Lab0_Lab-1/ml-lab0-master/lab0-data-and-visualization-review-bacheflorian/Lab-1/setup.ipynb#W0sZmlsZQ%3D%3D?line=6'>7</a>\u001b[0m \u001b[39mimport\u001b[39;00m \u001b[39mmatplotlib\u001b[39;00m\n",
      "\u001b[1;31mModuleNotFoundError\u001b[0m: No module named 'pandas'"
     ]
    }
   ],
   "source": [
    "import sys\n",
    "print(\"Python␣version:\", sys.version)\n",
    "\n",
    "import pandas as pd\n",
    "print(\"pandas␣version:\", pd.__version__)\n",
    "\n",
    "import matplotlib\n",
    "print(\"matplotlib␣version:\", matplotlib.__version__)\n",
    "\n",
    "import numpy as np\n",
    "print(\"NumPy␣version:\", np.__version__)\n",
    "\n",
    "import scipy as sp\n",
    "print(\"SciPy␣version:\", sp.__version__)\n",
    "\n",
    "import IPython\n",
    "print(\"IPython␣version:\", IPython.__version__)\n",
    "\n",
    "import sklearn\n",
    "print(\"scikit-learn␣version:\", sklearn.__version__)\n",
    "\n",
    "import yellowbrick\n",
    "print(\"yellowbrick␣version:\", yellowbrick.__version__)\n"
   ]
  }
 ],
 "metadata": {
  "kernelspec": {
   "display_name": "Python 3.10.4 64-bit",
   "language": "python",
   "name": "python3"
  },
  "language_info": {
   "codemirror_mode": {
    "name": "ipython",
    "version": 3
   },
   "file_extension": ".py",
   "mimetype": "text/x-python",
   "name": "python",
   "nbconvert_exporter": "python",
   "pygments_lexer": "ipython3",
   "version": "3.10.4"
  },
  "orig_nbformat": 4,
  "vscode": {
   "interpreter": {
    "hash": "26de051ba29f2982a8de78e945f0abaf191376122a1563185a90213a26c5da77"
   }
  }
 },
 "nbformat": 4,
 "nbformat_minor": 2
}
